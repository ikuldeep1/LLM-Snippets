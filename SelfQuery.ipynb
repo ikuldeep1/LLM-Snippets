{
  "nbformat": 4,
  "nbformat_minor": 0,
  "metadata": {
    "colab": {
      "provenance": [],
      "gpuType": "T4",
      "authorship_tag": "ABX9TyPqn0l4FwNl2d6SvRJNlbo0"
    },
    "kernelspec": {
      "name": "python3",
      "display_name": "Python 3"
    },
    "language_info": {
      "name": "python"
    },
    "accelerator": "GPU"
  },
  "cells": [
    {
      "cell_type": "code",
      "execution_count": null,
      "metadata": {
        "id": "DoQ_JFrXbpyr"
      },
      "outputs": [],
      "source": [
        "!pip install langchain langchain-community chromadb faiss-cpu -q\n",
        "!pip install google-generativeai -q\n",
        "!pip install langchain-google-genai -q\n",
        "!pip install -U lark -q\n",
        "!pip install -U google-genai -q"
      ]
    },
    {
      "cell_type": "code",
      "source": [
        "from langchain_core.documents import Document\n",
        "from langchain.embeddings import HuggingFaceBgeEmbeddings\n",
        "from langchain.vectorstores import Chroma\n",
        "from langchain.retrievers.self_query.base import SelfQueryRetriever\n",
        "from langchain.chains.query_constructor.base import AttributeInfo, StructuredQueryOutputParser, get_query_constructor_prompt\n",
        "from langchain_google_genai.chat_models import ChatGoogleGenerativeAI\n",
        "from langchain.prompts import ChatPromptTemplate\n",
        "from google import genai\n",
        "import warnings\n",
        "warnings.filterwarnings(\"ignore\")"
      ],
      "metadata": {
        "id": "t3blAAJ4b48y"
      },
      "execution_count": 2,
      "outputs": []
    },
    {
      "cell_type": "code",
      "source": [
        "# Prepare docs\n",
        "docs_raw = [\n",
        "    {\"content\": \"The Eiffel Tower is located in Paris.\", \"metadata\": {\"location\": \"Paris\", \"category\": \"monument\"}},\n",
        "    {\"content\": \"The Great Wall of China is one of the Seven Wonders.\", \"metadata\": {\"location\": \"China\", \"category\": \"monument\"}},\n",
        "    {\"content\": \"Mount Everest is the tallest mountain in the world.\", \"metadata\": {\"location\": \"Nepal\", \"category\": \"mountain\"}},\n",
        "    {\"content\": \"The Louvre Museum houses many famous artworks.\", \"metadata\": {\"location\": \"Paris\", \"category\": \"museum\"}},\n",
        "    {\"content\": \"The Colosseum is a historic site in Rome.\", \"metadata\": {\"location\": \"Rome\", \"category\": \"monument\"}},\n",
        "    {\"content\": \"Taj Mahal is an ivory-white marble mausoleum in India.\", \"metadata\": {\"location\": \"India\", \"category\": \"monument\"}},\n",
        "    {\"content\": \"The British Museum is located in London.\", \"metadata\": {\"location\": \"London\", \"category\": \"museum\"}},\n",
        "    {\"content\": \"The Alps are a major mountain range in Europe.\", \"metadata\": {\"location\": \"Europe\", \"category\": \"mountain\"}},\n",
        "    {\"content\": \"The Grand Canyon is located in Arizona.\", \"metadata\": {\"location\": \"Arizona\", \"category\": \"canyon\"}},\n",
        "    {\"content\": \"The Statue of Liberty is in New York.\", \"metadata\": {\"location\": \"New York\", \"category\": \"monument\"}},\n",
        "    {\"content\": \"Big Ben is a famous clock tower in London.\", \"metadata\": {\"location\": \"London\", \"category\": \"monument\"}},\n",
        "    {\"content\": \"Machu Picchu is an ancient city in Peru.\", \"metadata\": {\"location\": \"Peru\", \"category\": \"historic\"}},\n",
        "    {\"content\": \"Sagrada Familia is a basilica in Barcelona.\", \"metadata\": {\"location\": \"Barcelona\", \"category\": \"religious\"}},\n",
        "    {\"content\": \"Stonehenge is a prehistoric monument in England.\", \"metadata\": {\"location\": \"England\", \"category\": \"monument\"}},\n",
        "    {\"content\": \"The Acropolis of Athens is an ancient citadel.\", \"metadata\": {\"location\": \"Athens\", \"category\": \"historic\"}},\n",
        "    {\"content\": \"The Sacred Valley is a stunning region near Cusco, Peru, known for its Incan archaeological sites.\", \"metadata\": {\"location\": \"Peru\", \"category\": \"historic\"}},\n",
        "    {\"content\": \"Christ the Redeemer is a statue in Rio de Janeiro.\", \"metadata\": {\"location\": \"Rio\", \"category\": \"monument\"}},\n",
        "    {\"content\": \"The Forbidden City is a palace complex in Beijing.\", \"metadata\": {\"location\": \"Beijing\", \"category\": \"historic\"}},\n",
        "    {\"content\": \"The Sydney Opera House is a multi-venue performing arts centre.\", \"metadata\": {\"location\": \"Sydney\", \"category\": \"cultural\"}},\n",
        "    {\"content\": \"Burj Khalifa is the tallest building in the world.\", \"metadata\": {\"location\": \"Dubai\", \"category\": \"building\"}},\n",
        "    {\"content\": \"Niagara Falls is a group of waterfalls between Canada and USA.\", \"metadata\": {\"location\": \"Canada\", \"category\": \"waterfall\"}}\n",
        "]\n",
        "\n",
        "documents = [Document(page_content=d[\"content\"], metadata=d[\"metadata\"]) for d in docs_raw]\n",
        "\n",
        "# Define Embedding Model\n",
        "hf_embeddings = HuggingFaceBgeEmbeddings(model_name=\"BAAI/bge-large-en\")\n",
        "\n",
        "# Store documents in VectorDB\n",
        "vectorstore = Chroma.from_documents(documents, hf_embeddings)"
      ],
      "metadata": {
        "id": "wJWS50yMceYY"
      },
      "execution_count": 8,
      "outputs": []
    },
    {
      "cell_type": "code",
      "source": [
        "import os\n",
        "os.environ[\"GOOGLE_API_KEY\"] = \"\""
      ],
      "metadata": {
        "id": "fW4jpoI2csLD"
      },
      "execution_count": 4,
      "outputs": []
    },
    {
      "cell_type": "code",
      "source": [
        "from langchain_google_genai import ChatGoogleGenerativeAI\n",
        "\n",
        "llm = ChatGoogleGenerativeAI(\n",
        "    model=\"gemini-2.0-flash\",\n",
        "    temperature=0,\n",
        "    max_tokens=None,\n",
        "    timeout=None,\n",
        "    max_retries=2,\n",
        ")"
      ],
      "metadata": {
        "id": "TPOrUuFLdSrA"
      },
      "execution_count": 5,
      "outputs": []
    },
    {
      "cell_type": "code",
      "source": [
        "metadata_field_info = [\n",
        "    AttributeInfo(\n",
        "        name=\"location\",\n",
        "        description=\"Geographical location of the place described in the document\",\n",
        "        type=\"string\"\n",
        "    ),\n",
        "    AttributeInfo(\n",
        "        name=\"category\",\n",
        "        description=\"Type or classification of the place, such as monument, museum, mountain, etc.\",\n",
        "        type=\"string\"\n",
        "    ),\n",
        "]\n",
        "\n",
        "# Define Query Construction Prompt\n",
        "prompt = get_query_constructor_prompt(\"Descriptions of famous places\", metadata_field_info)\n",
        "\n",
        "# Define Output Parser\n",
        "output_parser = StructuredQueryOutputParser.from_components()\n",
        "\n",
        "# Create Query Constructor\n",
        "query_constructor = prompt | llm | output_parser\n",
        "\n",
        "# Create Self-Query Retriever\n",
        "retriever = SelfQueryRetriever(\n",
        "    query_constructor=query_constructor,\n",
        "    vectorstore=vectorstore,\n",
        "    search_kwargs={\"k\": 10},\n",
        "    metadata_field_info=metadata_field_info\n",
        ")"
      ],
      "metadata": {
        "id": "pB1q3cAidapm"
      },
      "execution_count": 9,
      "outputs": []
    },
    {
      "cell_type": "code",
      "source": [
        "query = \"Show me monuments in Peru\"\n",
        "retrieved_docs = retriever.invoke(query)\n",
        "\n",
        "# Print Retrieved Documents\n",
        "for doc in retrieved_docs:\n",
        "    print(f\"Location: {doc.page_content} | Metadata: {doc.metadata}\")"
      ],
      "metadata": {
        "colab": {
          "base_uri": "https://localhost:8080/"
        },
        "id": "91iXH7dFf3Hp",
        "outputId": "a613945a-7508-459c-a6fb-87e7d1a22f3c"
      },
      "execution_count": 11,
      "outputs": [
        {
          "output_type": "stream",
          "name": "stdout",
          "text": [
            "Location: Machu Picchu is an ancient city in Peru. | Metadata: {'location': 'Peru', 'category': 'historic'}\n",
            "Location: Machu Picchu is an ancient city in Peru. | Metadata: {'category': 'historic', 'location': 'Peru'}\n",
            "Location: The Sacred Valley is a stunning region near Cusco, Peru, known for its Incan archaeological sites. | Metadata: {'category': 'historic', 'location': 'Peru'}\n"
          ]
        }
      ]
    },
    {
      "cell_type": "code",
      "source": [
        "query = \"Show me monuments in Peru\"\n",
        "\n",
        "basic_retriever = vectorstore.as_retriever(search_kwargs={\"k\": 10})\n",
        "basic_results = basic_retriever.get_relevant_documents(query)\n",
        "\n",
        "print(\"\\n=== BASIC VECTOR RETRIEVER RESULTS ===\")\n",
        "for doc in basic_results:\n",
        "    print(f\"- {doc.page_content} | {doc.metadata}\")\n"
      ],
      "metadata": {
        "colab": {
          "base_uri": "https://localhost:8080/"
        },
        "id": "EOuJP_h_gRNR",
        "outputId": "112a8268-ab25-42ee-ef05-5980ac73d02c"
      },
      "execution_count": 12,
      "outputs": [
        {
          "output_type": "stream",
          "name": "stdout",
          "text": [
            "\n",
            "=== BASIC VECTOR RETRIEVER RESULTS ===\n",
            "- Machu Picchu is an ancient city in Peru. | {'category': 'historic', 'location': 'Peru'}\n",
            "- Machu Picchu is an ancient city in Peru. | {'category': 'historic', 'location': 'Peru'}\n",
            "- The Sacred Valley is a stunning region near Cusco, Peru, known for its Incan archaeological sites. | {'location': 'Peru', 'category': 'historic'}\n",
            "- The Great Wall of China is one of the Seven Wonders. | {'category': 'monument', 'location': 'China'}\n",
            "- The Great Wall of China is one of the Seven Wonders. | {'category': 'monument', 'location': 'China'}\n",
            "- The Colosseum is a historic site in Rome. | {'location': 'Rome', 'category': 'monument'}\n",
            "- The Colosseum is a historic site in Rome. | {'location': 'Rome', 'category': 'monument'}\n",
            "- Stonehenge is a prehistoric monument in England. | {'category': 'monument', 'location': 'England'}\n",
            "- Stonehenge is a prehistoric monument in England. | {'location': 'England', 'category': 'monument'}\n",
            "- Sagrada Familia is a basilica in Barcelona. | {'location': 'Barcelona', 'category': 'religious'}\n"
          ]
        }
      ]
    },
    {
      "cell_type": "code",
      "source": [],
      "metadata": {
        "id": "RrmExML1guT3"
      },
      "execution_count": null,
      "outputs": []
    }
  ]
}